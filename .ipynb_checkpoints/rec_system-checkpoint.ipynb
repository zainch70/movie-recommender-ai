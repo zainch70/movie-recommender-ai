{
 "cells": [
  {
   "cell_type": "code",
   "execution_count": 88,
   "id": "536f1a58",
   "metadata": {},
   "outputs": [],
   "source": [
    "import numpy as np\n",
    "import pandas as pd\n",
    "import matplotlib.pyplot as plt\n",
    "import os\n"
   ]
  },
  {
   "cell_type": "code",
   "execution_count": 89,
   "id": "5258185b",
   "metadata": {},
   "outputs": [],
   "source": [
    "movies=pd.read_csv('C:/Users/HP/Desktop/Movie Reccomender/data/tmdb_5000_movies.csv')\n",
    "credits=pd.read_csv('C:/Users/HP/Desktop/Movie Reccomender/data/tmdb_5000_credits.csv')"
   ]
  },
  {
   "cell_type": "code",
   "execution_count": 90,
   "id": "8bfe6a23",
   "metadata": {},
   "outputs": [],
   "source": [
    "# movies.head()"
   ]
  },
  {
   "cell_type": "code",
   "execution_count": 91,
   "id": "203efc0a",
   "metadata": {},
   "outputs": [],
   "source": [
    "# movies.shape"
   ]
  },
  {
   "cell_type": "code",
   "execution_count": 92,
   "id": "7f6183e4",
   "metadata": {},
   "outputs": [],
   "source": [
    "# movies.tail()"
   ]
  },
  {
   "cell_type": "code",
   "execution_count": 93,
   "id": "65f0c22a",
   "metadata": {},
   "outputs": [],
   "source": [
    "movies=movies.merge(credits,on='title')"
   ]
  },
  {
   "cell_type": "code",
   "execution_count": 94,
   "id": "1bf7a064",
   "metadata": {},
   "outputs": [],
   "source": [
    "# movies.iloc[0]\n",
    "# movies['original_language'].value_counts()"
   ]
  },
  {
   "cell_type": "code",
   "execution_count": 95,
   "id": "1a5651c8",
   "metadata": {},
   "outputs": [],
   "source": [
    "# movies.columns"
   ]
  },
  {
   "cell_type": "code",
   "execution_count": 96,
   "id": "e884e974",
   "metadata": {
    "scrolled": true
   },
   "outputs": [],
   "source": [
    "movies=movies[['movie_id','title','overview','genres','keywords','cast','crew']]"
   ]
  },
  {
   "cell_type": "code",
   "execution_count": 97,
   "id": "42ec6ea0",
   "metadata": {},
   "outputs": [
    {
     "data": {
      "text/plain": [
       "movie_id    0\n",
       "title       0\n",
       "overview    3\n",
       "genres      0\n",
       "keywords    0\n",
       "cast        0\n",
       "crew        0\n",
       "dtype: int64"
      ]
     },
     "execution_count": 97,
     "metadata": {},
     "output_type": "execute_result"
    }
   ],
   "source": [
    "movies.isnull().sum()"
   ]
  },
  {
   "cell_type": "code",
   "execution_count": 98,
   "id": "46174c06",
   "metadata": {},
   "outputs": [],
   "source": [
    "movies.dropna(inplace=True) #dropna delete permanently null values using inplace=True"
   ]
  },
  {
   "cell_type": "code",
   "execution_count": 99,
   "id": "28662a5e",
   "metadata": {},
   "outputs": [],
   "source": [
    "# movies.duplicated().sum()"
   ]
  },
  {
   "cell_type": "code",
   "execution_count": 100,
   "id": "4f7318b6",
   "metadata": {},
   "outputs": [],
   "source": [
    "# movies.iloc[0]['genres']"
   ]
  },
  {
   "cell_type": "code",
   "execution_count": 101,
   "id": "c72850d9",
   "metadata": {},
   "outputs": [],
   "source": [
    "# import ast #use for converting string to dictionary\n",
    "# ast.literal_eval('[{\"id\": 28, \"name\": \"Action\"}, {\"id\": 12, \"name\": \"Adventure\"}, {\"id\": 14, \"name\": \"Fantasy\"}, {\"id\": 878, \"name\": \"Science Fiction\"}]')"
   ]
  },
  {
   "cell_type": "code",
   "execution_count": 102,
   "id": "d2f6a6dc",
   "metadata": {},
   "outputs": [],
   "source": [
    "import ast\n",
    "\n",
    "def convert(text):\n",
    "    l=[]\n",
    "    for i in ast.literal_eval(text):\n",
    "        l.append(i['name'])\n",
    "        \n",
    "    return l"
   ]
  },
  {
   "cell_type": "code",
   "execution_count": 103,
   "id": "dd8e6fc0",
   "metadata": {},
   "outputs": [],
   "source": [
    "# movies['genres'].apply(convert) this will apply convert function on movies['genres']\n",
    "movies['genres']=movies['genres'].apply(convert)"
   ]
  },
  {
   "cell_type": "code",
   "execution_count": 104,
   "id": "2f8fd641",
   "metadata": {},
   "outputs": [],
   "source": [
    "movies['keywords']=movies['keywords'].apply(convert)"
   ]
  },
  {
   "cell_type": "code",
   "execution_count": 105,
   "id": "b3bb790e",
   "metadata": {},
   "outputs": [],
   "source": [
    "# movies.iloc[0]['cast']\n",
    "def convert_cast(text):\n",
    "    l=[]\n",
    "    counter=0\n",
    "    for i in ast.literal_eval(text):\n",
    "        if counter<3:\n",
    "            l.append(i['name'])\n",
    "        counter=counter+1\n",
    "        \n",
    "    return l"
   ]
  },
  {
   "cell_type": "code",
   "execution_count": 106,
   "id": "ac1bb78e",
   "metadata": {},
   "outputs": [],
   "source": [
    "movies['cast']=movies['cast'].apply(convert_cast)\n",
    "# movies.head(2)"
   ]
  },
  {
   "cell_type": "code",
   "execution_count": 107,
   "id": "6980b706",
   "metadata": {},
   "outputs": [],
   "source": [
    "# movies.iloc[0]['crew']\n",
    "def fetch_director(text):\n",
    "    l=[]\n",
    "    for i in ast.literal_eval(text):\n",
    "        if i['job']=='Director':\n",
    "            l.append(i['name'])\n",
    "            break\n",
    "        \n",
    "    return l\n",
    "\n",
    "movies['crew']=movies['crew'].apply(fetch_director)\n",
    "# movies.head(2)"
   ]
  },
  {
   "cell_type": "code",
   "execution_count": 108,
   "id": "752dc9c3",
   "metadata": {},
   "outputs": [],
   "source": [
    "movies['overview']=movies['overview'].apply(lambda x:x.split()) #used for converting string into list separated by commas\n",
    "# movies.head(2)\n"
   ]
  },
  {
   "cell_type": "code",
   "execution_count": 109,
   "id": "485bfd27",
   "metadata": {},
   "outputs": [],
   "source": [
    "# Sam Worthington\n",
    "# SamWorthington remove space to avoid duplication and confusing from names\n",
    "\n",
    "def remove_space(word):\n",
    "    l=[]\n",
    "    \n",
    "    for i in word:\n",
    "        l.append(i.replace(\" \",\"\"))\n",
    "    \n",
    "    return l   \n",
    "\n",
    "\n",
    "movies['cast']=movies['cast'].apply(remove_space)\n",
    "movies['crew']=movies['crew'].apply(remove_space)\n",
    "movies['genres']=movies['genres'].apply(remove_space)\n",
    "movies['keywords']=movies['keywords'].apply(remove_space)"
   ]
  },
  {
   "cell_type": "code",
   "execution_count": 110,
   "id": "cf10011f",
   "metadata": {},
   "outputs": [],
   "source": [
    "movies['tags']=movies['overview']+movies['genres']+movies['keywords']+movies['cast']+movies['crew'] #concat for tags used in recommendation\n",
    "# movies.head(1)\n",
    "# movies.iloc[0]['tags']"
   ]
  },
  {
   "cell_type": "code",
   "execution_count": 111,
   "id": "0d565327",
   "metadata": {},
   "outputs": [
    {
     "data": {
      "text/html": [
       "<div>\n",
       "<style scoped>\n",
       "    .dataframe tbody tr th:only-of-type {\n",
       "        vertical-align: middle;\n",
       "    }\n",
       "\n",
       "    .dataframe tbody tr th {\n",
       "        vertical-align: top;\n",
       "    }\n",
       "\n",
       "    .dataframe thead th {\n",
       "        text-align: right;\n",
       "    }\n",
       "</style>\n",
       "<table border=\"1\" class=\"dataframe\">\n",
       "  <thead>\n",
       "    <tr style=\"text-align: right;\">\n",
       "      <th></th>\n",
       "      <th>movie_id</th>\n",
       "      <th>title</th>\n",
       "      <th>tags</th>\n",
       "    </tr>\n",
       "  </thead>\n",
       "  <tbody>\n",
       "    <tr>\n",
       "      <th>0</th>\n",
       "      <td>19995</td>\n",
       "      <td>Avatar</td>\n",
       "      <td>[In, the, 22nd, century,, a, paraplegic, Marin...</td>\n",
       "    </tr>\n",
       "    <tr>\n",
       "      <th>1</th>\n",
       "      <td>285</td>\n",
       "      <td>Pirates of the Caribbean: At World's End</td>\n",
       "      <td>[Captain, Barbossa,, long, believed, to, be, d...</td>\n",
       "    </tr>\n",
       "    <tr>\n",
       "      <th>2</th>\n",
       "      <td>206647</td>\n",
       "      <td>Spectre</td>\n",
       "      <td>[A, cryptic, message, from, Bond’s, past, send...</td>\n",
       "    </tr>\n",
       "    <tr>\n",
       "      <th>3</th>\n",
       "      <td>49026</td>\n",
       "      <td>The Dark Knight Rises</td>\n",
       "      <td>[Following, the, death, of, District, Attorney...</td>\n",
       "    </tr>\n",
       "    <tr>\n",
       "      <th>4</th>\n",
       "      <td>49529</td>\n",
       "      <td>John Carter</td>\n",
       "      <td>[John, Carter, is, a, war-weary,, former, mili...</td>\n",
       "    </tr>\n",
       "  </tbody>\n",
       "</table>\n",
       "</div>"
      ],
      "text/plain": [
       "   movie_id                                     title  \\\n",
       "0     19995                                    Avatar   \n",
       "1       285  Pirates of the Caribbean: At World's End   \n",
       "2    206647                                   Spectre   \n",
       "3     49026                     The Dark Knight Rises   \n",
       "4     49529                               John Carter   \n",
       "\n",
       "                                                tags  \n",
       "0  [In, the, 22nd, century,, a, paraplegic, Marin...  \n",
       "1  [Captain, Barbossa,, long, believed, to, be, d...  \n",
       "2  [A, cryptic, message, from, Bond’s, past, send...  \n",
       "3  [Following, the, death, of, District, Attorney...  \n",
       "4  [John, Carter, is, a, war-weary,, former, mili...  "
      ]
     },
     "execution_count": 111,
     "metadata": {},
     "output_type": "execute_result"
    }
   ],
   "source": [
    "new_df=movies[['movie_id','title','tags']]\n",
    "new_df.head()"
   ]
  },
  {
   "cell_type": "code",
   "execution_count": 112,
   "id": "939e3306",
   "metadata": {},
   "outputs": [
    {
     "name": "stderr",
     "output_type": "stream",
     "text": [
      "C:\\Users\\HP\\AppData\\Local\\Temp\\ipykernel_9928\\2057404323.py:1: SettingWithCopyWarning: \n",
      "A value is trying to be set on a copy of a slice from a DataFrame.\n",
      "Try using .loc[row_indexer,col_indexer] = value instead\n",
      "\n",
      "See the caveats in the documentation: https://pandas.pydata.org/pandas-docs/stable/user_guide/indexing.html#returning-a-view-versus-a-copy\n",
      "  new_df['tags']=new_df['tags'].apply(lambda x:\" \".join(x)) #used for making tags col into paragaraph instead of , separated\n"
     ]
    }
   ],
   "source": [
    "new_df['tags']=new_df['tags'].apply(lambda x:\" \".join(x)) #used for making tags col into paragaraph instead of , separated\n",
    "# new_df.head()\n",
    "# new_df.iloc[1]['tags']"
   ]
  },
  {
   "cell_type": "code",
   "execution_count": 113,
   "id": "006b14b6",
   "metadata": {},
   "outputs": [
    {
     "name": "stderr",
     "output_type": "stream",
     "text": [
      "C:\\Users\\HP\\AppData\\Local\\Temp\\ipykernel_9928\\266722819.py:1: SettingWithCopyWarning: \n",
      "A value is trying to be set on a copy of a slice from a DataFrame.\n",
      "Try using .loc[row_indexer,col_indexer] = value instead\n",
      "\n",
      "See the caveats in the documentation: https://pandas.pydata.org/pandas-docs/stable/user_guide/indexing.html#returning-a-view-versus-a-copy\n",
      "  new_df['tags']=new_df['tags'].apply(lambda x:x.lower()) #converting all into lowercase recommended for perfect match\n"
     ]
    }
   ],
   "source": [
    "new_df['tags']=new_df['tags'].apply(lambda x:x.lower()) #converting all into lowercase recommended for perfect match\n",
    "# new_df.head()"
   ]
  },
  {
   "cell_type": "code",
   "execution_count": 114,
   "id": "7f968f16",
   "metadata": {},
   "outputs": [],
   "source": [
    "import nltk\n",
    "from nltk.stem import PorterStemmer\n",
    "ps=PorterStemmer()"
   ]
  },
  {
   "cell_type": "code",
   "execution_count": 115,
   "id": "3ff7a9db",
   "metadata": {},
   "outputs": [
    {
     "name": "stderr",
     "output_type": "stream",
     "text": [
      "C:\\Users\\HP\\AppData\\Local\\Temp\\ipykernel_9928\\3517118112.py:7: SettingWithCopyWarning: \n",
      "A value is trying to be set on a copy of a slice from a DataFrame.\n",
      "Try using .loc[row_indexer,col_indexer] = value instead\n",
      "\n",
      "See the caveats in the documentation: https://pandas.pydata.org/pandas-docs/stable/user_guide/indexing.html#returning-a-view-versus-a-copy\n",
      "  new_df['tags']=new_df['tags'].apply(stems)\n"
     ]
    }
   ],
   "source": [
    "def stems(text):\n",
    "    l=[]\n",
    "    for i in text.split():\n",
    "        l.append(ps.stem(i))\n",
    "    return \" \".join(l)\n",
    "\n",
    "new_df['tags']=new_df['tags'].apply(stems)\n",
    "# new_df.iloc[0]['tags']"
   ]
  },
  {
   "cell_type": "code",
   "execution_count": 116,
   "id": "a282633e",
   "metadata": {},
   "outputs": [],
   "source": [
    "from sklearn.feature_extraction.text import CountVectorizer\n",
    "cv=CountVectorizer(max_features=5000,stop_words='english') #stopwords used for get rid of is are and non-meaningful words from tags"
   ]
  },
  {
   "cell_type": "code",
   "execution_count": 117,
   "id": "6210a795",
   "metadata": {},
   "outputs": [
    {
     "data": {
      "text/plain": [
       "array([[0, 0, 0, ..., 0, 0, 0],\n",
       "       [0, 0, 0, ..., 0, 0, 0],\n",
       "       [0, 0, 0, ..., 0, 0, 0],\n",
       "       ...,\n",
       "       [0, 0, 0, ..., 0, 0, 0],\n",
       "       [0, 0, 0, ..., 0, 0, 0],\n",
       "       [0, 0, 0, ..., 0, 0, 0]], dtype=int64)"
      ]
     },
     "execution_count": 117,
     "metadata": {},
     "output_type": "execute_result"
    }
   ],
   "source": [
    "vector = cv.fit_transform(new_df['tags']).toarray() #it turns the text data from extracted vocabulary(using fit_transform) into a matrix of numbers(using toarray) that can be used for machine learning.\n",
    "vector\n"
   ]
  },
  {
   "cell_type": "code",
   "execution_count": 118,
   "id": "d76edf7a",
   "metadata": {},
   "outputs": [],
   "source": [
    "# vector.shape"
   ]
  },
  {
   "cell_type": "code",
   "execution_count": 119,
   "id": "ea06b03f",
   "metadata": {},
   "outputs": [],
   "source": [
    "from sklearn.metrics.pairwise import cosine_similarity\n",
    "similarity=cosine_similarity(vector)"
   ]
  },
  {
   "cell_type": "code",
   "execution_count": 120,
   "id": "144ee7f7",
   "metadata": {},
   "outputs": [],
   "source": [
    "# similarity\n",
    "# similarity.shape #(4806,4806) tells 4806 documents have been exactly matched with cosine similarities"
   ]
  },
  {
   "cell_type": "code",
   "execution_count": 121,
   "id": "5fc49126",
   "metadata": {},
   "outputs": [],
   "source": [
    "# new_df[new_df['title']=='Spider-Man'].index[0] #it will return the first index of title which is Spider-Man(159) in this case"
   ]
  },
  {
   "cell_type": "code",
   "execution_count": 124,
   "id": "5b7985ed",
   "metadata": {},
   "outputs": [],
   "source": [
    "def recommend(movie):\n",
    "    index=new_df[new_df['title'] == movie].index[0]\n",
    "    distances=sorted(list(enumerate(similarity[index])),reverse=True ,key =lambda x:x[1])\n",
    "    for i in distances[1:6]: #for recommending first 5 movies with high similarities\n",
    "        print(new_df.iloc[i[0]].title)\n",
    "    "
   ]
  },
  {
   "cell_type": "code",
   "execution_count": 125,
   "id": "50da3d05",
   "metadata": {},
   "outputs": [
    {
     "name": "stdout",
     "output_type": "stream",
     "text": [
      "Spider-Man 3\n",
      "Spider-Man 2\n",
      "The Amazing Spider-Man 2\n",
      "Arachnophobia\n",
      "Kick-Ass\n"
     ]
    }
   ],
   "source": [
    "recommend('Spider-Man')"
   ]
  },
  {
   "cell_type": "code",
   "execution_count": 126,
   "id": "9dfd7852",
   "metadata": {},
   "outputs": [],
   "source": [
    "import pickle\n",
    "\n",
    "pickle.dump(new_df,open('artifacts/movie_list.pkl','wb'))\n",
    "pickle.dump(similarity,open('artifacts/similarity.pkl','wb'))\n"
   ]
  },
  {
   "cell_type": "code",
   "execution_count": null,
   "id": "0950bf91",
   "metadata": {},
   "outputs": [],
   "source": []
  }
 ],
 "metadata": {
  "kernelspec": {
   "display_name": "Python 3 (ipykernel)",
   "language": "python",
   "name": "python3"
  },
  "language_info": {
   "codemirror_mode": {
    "name": "ipython",
    "version": 3
   },
   "file_extension": ".py",
   "mimetype": "text/x-python",
   "name": "python",
   "nbconvert_exporter": "python",
   "pygments_lexer": "ipython3",
   "version": "3.11.5"
  }
 },
 "nbformat": 4,
 "nbformat_minor": 5
}
